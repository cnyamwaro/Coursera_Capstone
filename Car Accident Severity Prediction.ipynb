{
    "cells": [
        {
            "cell_type": "markdown",
            "metadata": {
                "collapsed": true
            },
            "source": "# CAR ACCIDENT SEVERITY\n## Introduction\n\n"
        },
        {
            "cell_type": "markdown",
            "metadata": {},
            "source": "Car accidents are one of the leading causes of loss of lives and destruction of property. In this study we seek to study the common causes of car accidents and how they can be prevented. This analysis seeks to enable the drivers to be more careful depending on the weather and road conditions on any given day or a way for the police to enforce more safety protocols. To attain this we shall use Collisions Data from City of Seattle\u2019s police department showing all the collisions from 2004."
        },
        {
            "cell_type": "markdown",
            "metadata": {},
            "source": "## Data"
        },
        {
            "cell_type": "markdown",
            "metadata": {},
            "source": "We shall use an extensive dataset from City of Seattle\u2019s Police Department showing collisons from 2004 to date. To build a model to prevent future accidents and/or reduce their severity, we will use the following attributes \u2014 ADDRTYPE, WEATHER, ROADCOND, VEHCOUNT, PERSONCOUNT."
        },
        {
            "cell_type": "code",
            "execution_count": null,
            "metadata": {},
            "outputs": [],
            "source": ""
        }
    ],
    "metadata": {
        "kernelspec": {
            "display_name": "Python 3.6",
            "language": "python",
            "name": "python3"
        },
        "language_info": {
            "codemirror_mode": {
                "name": "ipython",
                "version": 3
            },
            "file_extension": ".py",
            "mimetype": "text/x-python",
            "name": "python",
            "nbconvert_exporter": "python",
            "pygments_lexer": "ipython3",
            "version": "3.6.9"
        }
    },
    "nbformat": 4,
    "nbformat_minor": 1
}